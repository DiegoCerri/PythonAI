{
  "nbformat": 4,
  "nbformat_minor": 0,
  "metadata": {
    "colab": {
      "provenance": [],
      "authorship_tag": "ABX9TyPr9PznObLjM0557H4B3RYX",
      "include_colab_link": true
    },
    "kernelspec": {
      "name": "python3",
      "display_name": "Python 3"
    },
    "language_info": {
      "name": "python"
    }
  },
  "cells": [
    {
      "cell_type": "markdown",
      "metadata": {
        "id": "view-in-github",
        "colab_type": "text"
      },
      "source": [
        "<a href=\"https://colab.research.google.com/github/DiegoCerri/PythonAI/blob/main/AIRegLinear2.ipynb\" target=\"_parent\"><img src=\"https://colab.research.google.com/assets/colab-badge.svg\" alt=\"Open In Colab\"/></a>"
      ]
    },
    {
      "cell_type": "code",
      "execution_count": 9,
      "metadata": {
        "colab": {
          "base_uri": "https://localhost:8080/"
        },
        "id": "N-xLXbx5ezrY",
        "outputId": "969c2784-a62f-4a51-9468-a953021f6712"
      },
      "outputs": [
        {
          "output_type": "stream",
          "name": "stdout",
          "text": [
            "[1 0 0 4 4]\n",
            "[4 4 3 2 1]\n",
            "[2 0 0 1 0]\n",
            "0.2\n"
          ]
        }
      ],
      "source": [
        "#https://www.youtube.com/watch?v=JyGGMyR3x5I&t=13s\n",
        "\n",
        "#pip install -U scikit-learn -> para instalar a biblioteca sklearn\n",
        "\n",
        "#Tem pelo longo? , Tem perna curta? , Late? - 1 é sim e 0 é não\n",
        "\n",
        "from sklearn.svm import LinearSVC\n",
        "from sklearn.metrics import accuracy_score\n",
        "\n",
        "\n",
        "#porco1=[0,1,0]\n",
        "#porco2=[0,1,1]\n",
        "#porco3=[1,1,0]\n",
        "\n",
        "#cachorro1=[0,1,1]\n",
        "#cachorro2=[1,0,1]\n",
        "#cachorro3=[1,1,1]\n",
        "\n",
        "#0-carro 0,1,0\n",
        "#1-moto 1,1,0\n",
        "#2-bicicleta 1,0,0\n",
        "#3-caminhão 0,0,0\n",
        "#4-caminhonete 0,1,1\n",
        "\n",
        "#Duas rodas? Com motor a gasolina? É um utilitário utilitário? É um esportivo? É de luxo?\n",
        "\n",
        "carro=[0,1,0,0,0]\n",
        "moto=[1,1,0,0,0]\n",
        "bicicleta=[1,0,0,0,0]\n",
        "caminhao=[0,0,0,0,0]\n",
        "caminhonete=[0,0,1,0,0]\n",
        "\n",
        "\n",
        "\n",
        "\n",
        "#treino_x=[porco1,porco2,porco3,cachorro1,cachorro2,cachorro3]\n",
        "\n",
        "#treino_y=[1,1,1,0,0,0] #0 é cachorro e 1 é porco\n",
        "\n",
        "treino_x=[carro,moto,bicicleta,caminhao,caminhonete]\n",
        "treino_y=[0,1,2,3,4]\n",
        "\n",
        "\n",
        "modelo=LinearSVC()\n",
        "modelo.fit(treino_x,treino_y)\n",
        "\n",
        "#Com uma pergunta:\n",
        "#animal_misterioso=[0,0,0]\n",
        "#print(modelo.predict([animal_misterioso]))\n",
        "\n",
        "#Com varias perguntas:\n",
        "#misterio1=[1,1,1]\n",
        "#misterio2=[1,1,0]\n",
        "#misterio3=[0,1,1]\n",
        "#misterio4=[1,0,1]\n",
        "#misterio5=[0,0,0]\n",
        "#misterio6=[0,0,1]\n",
        "\n",
        "cg125=[1,1,0,0,0]\n",
        "gol=[0,1,0,0,0]\n",
        "ferrari=[0,1,0,1,1]\n",
        "ranger=[0,1,1,0,0]\n",
        "s10=[0,1,1,0,0]\n",
        "\n",
        "d20=[0,0,1,0,0]\n",
        "tritonDiesel=[0,0,1,0,1]\n",
        "m1113=[0,0,0,0,0]\n",
        "caloi=[1,0,0,0,0]\n",
        "yamaha=[1,1,0,0,0]\n",
        "\n",
        "montainBike=[1,0,0,0,0]\n",
        "bugatti=[0,1,0,1,1]\n",
        "rollsRoyce=[0,1,0,0,1]\n",
        "CBR1000=[1,1,0,1,0]\n",
        "golGTI=[0,1,0,1,0]\n",
        "\n",
        "previsoes1=modelo.predict([cg125,gol,ferrari,ranger,s10])\n",
        "previsoes2=modelo.predict([d20,tritonDiesel,m1113,caloi,yamaha])\n",
        "previsoes3=modelo.predict([montainBike,bugatti,rollsRoyce,CBR1000,golGTI])\n",
        "\n",
        "print(previsoes1)\n",
        "print(previsoes2)\n",
        "print(previsoes3)\n",
        "\n",
        "print(accuracy_score(treino_y,previsoes))\n"
      ]
    }
  ]
}